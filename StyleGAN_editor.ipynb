{
 "cells": [
  {
   "cell_type": "markdown",
   "metadata": {},
   "source": [
    "# (Run on the google colaboratory)Python3 ランタイムがGPUであることを確認"
   ]
  },
  {
   "cell_type": "code",
   "execution_count": null,
   "metadata": {
    "colab": {
     "base_uri": "https://localhost:8080/",
     "height": 119
    },
    "colab_type": "code",
    "executionInfo": {
     "elapsed": 3828,
     "status": "ok",
     "timestamp": 1576909089739,
     "user": {
      "displayName": "pacific pacifina",
      "photoUrl": "",
      "userId": "10756285699450948021"
     },
     "user_tz": 300
    },
    "id": "2Rx1nR-JZnXh",
    "outputId": "b74947b1-01f5-4d6e-f841-91424b9656e5"
   },
   "outputs": [],
   "source": [
    "!git clone https://github.com/pacifinapacific/StyleGAN_LatentEditor.git"
   ]
  },
  {
   "cell_type": "code",
   "execution_count": null,
   "metadata": {
    "colab": {
     "base_uri": "https://localhost:8080/",
     "height": 34
    },
    "colab_type": "code",
    "executionInfo": {
     "elapsed": 577,
     "status": "ok",
     "timestamp": 1576909104553,
     "user": {
      "displayName": "pacific pacifina",
      "photoUrl": "",
      "userId": "10756285699450948021"
     },
     "user_tz": 300
    },
    "id": "AiYlTSBvGzix",
    "outputId": "42792aff-481b-451c-931e-ef9e73e12604"
   },
   "outputs": [],
   "source": [
    "cd StyleGAN_LatentEditor/"
   ]
  },
  {
   "cell_type": "code",
   "execution_count": null,
   "metadata": {
    "colab": {},
    "colab_type": "code",
    "id": "ue2ieC89ftA9"
   },
   "outputs": [],
   "source": []
  },
  {
   "cell_type": "markdown",
   "metadata": {
    "colab_type": "text",
    "id": "rF7Ckku6KJwT"
   },
   "source": [
    "# 下のリンクから公式のStyleGANの学習済みモデルをダウンロードし,StyleGAN_LatentEditor/weight_files/tensorflow/ におく\n"
   ]
  },
  {
   "cell_type": "markdown",
   "metadata": {
    "colab_type": "text",
    "id": "YgszSqtTHQFS"
   },
   "source": [
    "https://drive.google.com/uc?id=1MEGjdvVpUsu1jB4zrXZN7Y4kBBOzizDQ"
   ]
  },
  {
   "cell_type": "code",
   "execution_count": null,
   "metadata": {
    "colab": {},
    "colab_type": "code",
    "id": "dhnY60FbS0f2"
   },
   "outputs": [],
   "source": [
    "from google.colab import files　#upload \n",
    "files.upload()"
   ]
  },
  {
   "cell_type": "markdown",
   "metadata": {
    "colab_type": "text",
    "id": "eX0Y7lDXK0jc"
   },
   "source": [
    "# 以下のコードでtensorflowの重みをpytorch用に変換する weight_files/pytorch/に作成される"
   ]
  },
  {
   "cell_type": "code",
   "execution_count": null,
   "metadata": {
    "colab": {
     "base_uri": "https://localhost:8080/",
     "height": 918
    },
    "colab_type": "code",
    "executionInfo": {
     "elapsed": 47185,
     "status": "ok",
     "timestamp": 1576915841349,
     "user": {
      "displayName": "pacific pacifina",
      "photoUrl": "",
      "userId": "10756285699450948021"
     },
     "user_tz": 300
    },
    "id": "GSrUTApxG3Bv",
    "outputId": "99fe9eb7-4cd3-47e1-e5ab-76b8be859915"
   },
   "outputs": [],
   "source": [
    "!python weight_convert.py"
   ]
  },
  {
   "cell_type": "markdown",
   "metadata": {
    "colab_type": "text",
    "id": "rhotVwqfLjao"
   },
   "source": [
    "# [1]潜在変数の推定(Abdal, R., Qin, Y., & Wonka, P. (2019). Image2StyleGAN: How to Embed Images Into the StyleGAN Latent Space?) \n",
    "latent_W/以下に推定された潜在変数が出力される"
   ]
  },
  {
   "cell_type": "code",
   "execution_count": null,
   "metadata": {
    "colab": {},
    "colab_type": "code",
    "id": "Dd3jwLubg3ge"
   },
   "outputs": [],
   "source": [
    "!mkdir save_image\n",
    "!mkdir save_image/encode1"
   ]
  },
  {
   "cell_type": "code",
   "execution_count": null,
   "metadata": {
    "colab": {
     "base_uri": "https://localhost:8080/",
     "height": 1000
    },
    "colab_type": "code",
    "executionInfo": {
     "elapsed": 151260,
     "status": "ok",
     "timestamp": 1576916127178,
     "user": {
      "displayName": "pacific pacifina",
      "photoUrl": "",
      "userId": "10756285699450948021"
     },
     "user_tz": 300
    },
    "id": "Mw5ZDAShLtl5",
    "outputId": "96f34f19-00a8-418d-e3cb-de3cc3d66cab"
   },
   "outputs": [],
   "source": [
    "!python encode_image.py   --src_im sample.png --iteration 500"
   ]
  },
  {
   "cell_type": "markdown",
   "metadata": {
    "colab_type": "text",
    "id": "Nlhm9BUWLy2J"
   },
   "source": [
    "# 推定された潜在変数を元にmorphingを行う\n",
    "morph_result/encode1 以下に出力画像\n"
   ]
  },
  {
   "cell_type": "code",
   "execution_count": null,
   "metadata": {
    "colab": {},
    "colab_type": "code",
    "id": "fH8b83eRhbYh"
   },
   "outputs": [],
   "source": [
    "!mkdir morph_result\n",
    "!mkdir morph_result/encode1"
   ]
  },
  {
   "cell_type": "code",
   "execution_count": null,
   "metadata": {
    "colab": {},
    "colab_type": "code",
    "id": "6Onh1edyMIVT"
   },
   "outputs": [],
   "source": [
    "!python image_morphing.py --latent_file1 latent_W/0.npy --latent_file2 latent_W/sample.npy"
   ]
  },
  {
   "cell_type": "code",
   "execution_count": null,
   "metadata": {
    "colab": {},
    "colab_type": "code",
    "id": "uZGp6o6mhqu6"
   },
   "outputs": [],
   "source": []
  },
  {
   "cell_type": "markdown",
   "metadata": {
    "colab_type": "text",
    "id": "NIEhWXw-MP3s"
   },
   "source": [
    "# morph画像をgifとして保存\n",
    "save_result以下にgif"
   ]
  },
  {
   "cell_type": "code",
   "execution_count": null,
   "metadata": {
    "colab": {},
    "colab_type": "code",
    "id": "2_wowlYziIYq"
   },
   "outputs": [],
   "source": [
    "!mkdir save_result"
   ]
  },
  {
   "cell_type": "code",
   "execution_count": null,
   "metadata": {
    "colab": {
     "base_uri": "https://localhost:8080/",
     "height": 54
    },
    "colab_type": "code",
    "executionInfo": {
     "elapsed": 7331,
     "status": "ok",
     "timestamp": 1576916275182,
     "user": {
      "displayName": "pacific pacifina",
      "photoUrl": "",
      "userId": "10756285699450948021"
     },
     "user_tz": 300
    },
    "id": "wj4gnA3EMyuS",
    "outputId": "7203fec9-102a-4b62-f3be-9f5ecc11f429"
   },
   "outputs": [],
   "source": [
    "!python make_morphgif.py"
   ]
  },
  {
   "cell_type": "markdown",
   "metadata": {
    "colab_type": "text",
    "id": "vnpyNU4NM2n7"
   },
   "source": [
    "# [2]Image Crossover(Abdal, R., Qin, Y., & Wonka, P. (2019). Image2StyleGAN++: How to Edit the Embedded Images? )\n",
    "save_image/crossover/以下に生成画像\n"
   ]
  },
  {
   "cell_type": "code",
   "execution_count": null,
   "metadata": {
    "colab": {},
    "colab_type": "code",
    "id": "vz2Z4qBpiS5f"
   },
   "outputs": [],
   "source": [
    "!mkdir save_image/crossover"
   ]
  },
  {
   "cell_type": "code",
   "execution_count": null,
   "metadata": {
    "colab": {
     "base_uri": "https://localhost:8080/",
     "height": 1000
    },
    "colab_type": "code",
    "executionInfo": {
     "elapsed": 449880,
     "status": "ok",
     "timestamp": 1576916773574,
     "user": {
      "displayName": "pacific pacifina",
      "photoUrl": "",
      "userId": "10756285699450948021"
     },
     "user_tz": 300
    },
    "id": "yL2T-rzNNJD1",
    "outputId": "c9b3f427-1854-4fc8-afff-8880a9e5f6df"
   },
   "outputs": [],
   "source": [
    "!python image_crossover.py --src_im1  source_image/joker.png --src_im2  source_image/0.png --mask source_image/Blur_mask.png --iteration 1500\n"
   ]
  },
  {
   "cell_type": "markdown",
   "metadata": {
    "colab_type": "text",
    "id": "hoy9xn_INcTu"
   },
   "source": [
    "# [3] 表情の変換 (Yang, C., Lim, S.-N., & Ai, F. (n.d.). Unconstrained Facial Expression Transfer using Style-based Generator)\n",
    "save_image/exchange/以下に生成画像\n"
   ]
  },
  {
   "cell_type": "code",
   "execution_count": null,
   "metadata": {
    "colab": {
     "base_uri": "https://localhost:8080/",
     "height": 34
    },
    "colab_type": "code",
    "executionInfo": {
     "elapsed": 6445,
     "status": "ok",
     "timestamp": 1576916917391,
     "user": {
      "displayName": "pacific pacifina",
      "photoUrl": "",
      "userId": "10756285699450948021"
     },
     "user_tz": 300
    },
    "id": "akn_RL8EkMcq",
    "outputId": "d36ba643-93f8-4337-e393-a87efa68b75b"
   },
   "outputs": [],
   "source": [
    "!mkdir save_image/exchange\n",
    "!mkdir save_image/exchange/a\n",
    "!mkdir save_image/exchange/e\n",
    "!mkdir save_image/exchange/result1\n",
    "!mkdir save_image/exchange/result2"
   ]
  },
  {
   "cell_type": "code",
   "execution_count": null,
   "metadata": {
    "colab": {
     "base_uri": "https://localhost:8080/",
     "height": 1000
    },
    "colab_type": "code",
    "executionInfo": {
     "elapsed": 243671,
     "status": "ok",
     "timestamp": 1576917193440,
     "user": {
      "displayName": "pacific pacifina",
      "photoUrl": "",
      "userId": "10756285699450948021"
     },
     "user_tz": 300
    },
    "id": "-PB_LOIROC5M",
    "outputId": "620f1316-29fd-4501-f35a-c8f8caf7737b"
   },
   "outputs": [],
   "source": [
    "!python facial_exchange.py --src_im1  source_image/sample.png --src_im2  source_image/0.png  --iteration 200"
   ]
  },
  {
   "cell_type": "markdown",
   "metadata": {
    "colab_type": "text",
    "id": "TJEkDZ18OMVB"
   },
   "source": [
    "# [4] 顔属性のmorphing(Shen, Y., Gu, J., Tang, X., & Zhou, B. (2019).Interpreting the Latent Space of GANs for Semantic Face Editing)\n"
   ]
  },
  {
   "cell_type": "markdown",
   "metadata": {},
   "source": [
    "論文著者のgithubページからboundariesディレクトリをダウンロードしてStyleGAN_LatentEditor/ 以下に置く https://github.com/ShenYujun/InterFaceGAN"
   ]
  },
  {
   "cell_type": "markdown",
   "metadata": {},
   "source": [
    "save_image/boundary/以下に生成画像"
   ]
  },
  {
   "cell_type": "code",
   "execution_count": null,
   "metadata": {
    "colab": {},
    "colab_type": "code",
    "id": "9sDZz6BCOscs"
   },
   "outputs": [],
   "source": [
    "!mkdir save_image/boundary "
   ]
  },
  {
   "cell_type": "code",
   "execution_count": null,
   "metadata": {
    "colab": {},
    "colab_type": "code",
    "id": "JU6hXrrRmFA4"
   },
   "outputs": [],
   "source": [
    "!python semantic_edit.py --latent_file  latent_W/0.npy"
   ]
  },
  {
   "cell_type": "markdown",
   "metadata": {
    "colab_type": "text",
    "id": "b4ZCTqR5ngG2"
   },
   "source": [
    "# [5]自前で用意した画像で試したい方へ"
   ]
  },
  {
   "cell_type": "code",
   "execution_count": null,
   "metadata": {
    "colab": {},
    "colab_type": "code",
    "id": "xmRsjATvok4y"
   },
   "outputs": [],
   "source": [
    "!mkdir img\n",
    "!mkdir al_img"
   ]
  },
  {
   "cell_type": "markdown",
   "metadata": {
    "colab_type": "text",
    "id": "5VA3Y6jMnqqa"
   },
   "source": [
    "# 入力画像を1024×1024にリサイズしかつalignする必要があります\n",
    "以下のセルでdlibを用いてそれを実行します。\n",
    "imgディレクトリに用意した画像を置きコードを実行するとal_img内にalignされた画像が置かれます。後はsource_imageディレクトリに移して各セルの引数を変更してください"
   ]
  },
  {
   "cell_type": "code",
   "execution_count": null,
   "metadata": {
    "colab": {
     "base_uri": "https://localhost:8080/",
     "height": 68
    },
    "colab_type": "code",
    "executionInfo": {
     "elapsed": 16159,
     "status": "ok",
     "timestamp": 1576918270889,
     "user": {
      "displayName": "pacific pacifina",
      "photoUrl": "",
      "userId": "10756285699450948021"
     },
     "user_tz": 300
    },
    "id": "PUOz8gLinWOm",
    "outputId": "227f90ec-c8fc-4c84-fae5-9522e43c4ea9"
   },
   "outputs": [],
   "source": [
    "!python align_images.py img/ al_img/"
   ]
  },
  {
   "cell_type": "code",
   "execution_count": null,
   "metadata": {
    "colab": {},
    "colab_type": "code",
    "id": "DXgS_GYhqixI"
   },
   "outputs": [],
   "source": []
  },
  {
   "cell_type": "code",
   "execution_count": null,
   "metadata": {
    "colab": {},
    "colab_type": "code",
    "id": "QOPqfIIAqjWe"
   },
   "outputs": [],
   "source": []
  },
  {
   "cell_type": "code",
   "execution_count": null,
   "metadata": {
    "colab": {},
    "colab_type": "code",
    "id": "jEAUJM22qjpN"
   },
   "outputs": [],
   "source": []
  },
  {
   "cell_type": "code",
   "execution_count": null,
   "metadata": {
    "colab": {
     "base_uri": "https://localhost:8080/",
     "height": 122
    },
    "colab_type": "code",
    "executionInfo": {
     "elapsed": 20733,
     "status": "ok",
     "timestamp": 1576915708273,
     "user": {
      "displayName": "pacific pacifina",
      "photoUrl": "",
      "userId": "10756285699450948021"
     },
     "user_tz": 300
    },
    "id": "M911q2vTSheX",
    "outputId": "9a7a3cd0-7c22-4427-fe4d-79cc41eb4e13"
   },
   "outputs": [],
   "source": []
  },
  {
   "cell_type": "code",
   "execution_count": null,
   "metadata": {
    "colab": {},
    "colab_type": "code",
    "id": "AMMn7z2Vf8kT"
   },
   "outputs": [],
   "source": []
  },
  {
   "cell_type": "code",
   "execution_count": null,
   "metadata": {
    "colab": {
     "base_uri": "https://localhost:8080/",
     "height": 1000
    },
    "colab_type": "code",
    "executionInfo": {
     "elapsed": 4810,
     "status": "ok",
     "timestamp": 1576915762398,
     "user": {
      "displayName": "pacific pacifina",
      "photoUrl": "",
      "userId": "10756285699450948021"
     },
     "user_tz": 300
    },
    "id": "uU56IDY-gLl4",
    "outputId": "af0e48be-6887-4a8c-ac45-9456d641fcd8"
   },
   "outputs": [],
   "source": []
  },
  {
   "cell_type": "code",
   "execution_count": null,
   "metadata": {
    "colab": {
     "base_uri": "https://localhost:8080/",
     "height": 34
    },
    "colab_type": "code",
    "executionInfo": {
     "elapsed": 536,
     "status": "ok",
     "timestamp": 1576915783627,
     "user": {
      "displayName": "pacific pacifina",
      "photoUrl": "",
      "userId": "10756285699450948021"
     },
     "user_tz": 300
    },
    "id": "OKMfdnMDgOnJ",
    "outputId": "435b5aaa-9bd8-4347-d114-295049a29257"
   },
   "outputs": [],
   "source": []
  },
  {
   "cell_type": "code",
   "execution_count": null,
   "metadata": {
    "colab": {},
    "colab_type": "code",
    "id": "bK2Dcm43gSwi"
   },
   "outputs": [],
   "source": []
  }
 ],
 "metadata": {
  "accelerator": "GPU",
  "colab": {
   "collapsed_sections": [],
   "name": "StyleGAN_editor.ipynb",
   "provenance": []
  },
  "kernelspec": {
   "display_name": "Python 3",
   "language": "python",
   "name": "python3"
  },
  "language_info": {
   "codemirror_mode": {
    "name": "ipython",
    "version": 3
   },
   "file_extension": ".py",
   "mimetype": "text/x-python",
   "name": "python",
   "nbconvert_exporter": "python",
   "pygments_lexer": "ipython3",
   "version": "3.7.3"
  }
 },
 "nbformat": 4,
 "nbformat_minor": 1
}
